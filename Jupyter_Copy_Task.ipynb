{
 "cells": [
  {
   "cell_type": "markdown",
   "metadata": {},
   "source": [
    "<!-- Probelm statement -->\n",
    "\n",
    "<!-- Walk two folders and copy common elements to Third Folder -->"
   ]
  },
  {
   "cell_type": "code",
   "execution_count": 166,
   "metadata": {},
   "outputs": [],
   "source": [
    "import os\n",
    "\n",
    "import shutil"
   ]
  },
  {
   "cell_type": "code",
   "execution_count": 167,
   "metadata": {},
   "outputs": [
    {
     "data": {
      "text/plain": [
       "'/home/vigneshwaran/Desktop'"
      ]
     },
     "execution_count": 167,
     "metadata": {},
     "output_type": "execute_result"
    }
   ],
   "source": [
    "# Lets Check Current Directory\n",
    "\n",
    "os.getcwd()"
   ]
  },
  {
   "cell_type": "code",
   "execution_count": 104,
   "metadata": {},
   "outputs": [],
   "source": [
    "# Now I'm gonna Make Three Directories\n",
    "\n",
    "Folder_Name = [\"Vignesh\",\"Ramu\",\"Raj\"]\n",
    "\n",
    "# for _ in (Folder_Name):os.mkdir(_)"
   ]
  },
  {
   "cell_type": "code",
   "execution_count": 171,
   "metadata": {},
   "outputs": [
    {
     "data": {
      "text/plain": [
       "['Vignesh', 'Ramu', 'Raj']"
      ]
     },
     "execution_count": 171,
     "metadata": {},
     "output_type": "execute_result"
    }
   ],
   "source": [
    "# Now Check Whether Folders Created Or Not\n",
    "\n",
    "[Iter for Iter in Folder_Name for Iter1 in os.listdir() if Iter == Iter1]"
   ]
  },
  {
   "cell_type": "code",
   "execution_count": 172,
   "metadata": {},
   "outputs": [],
   "source": [
    "# Now Folders Created\n",
    "\n",
    "# Lets Move Some Files\n",
    "\n",
    "# Lets Find Out the Folders in Current Directory.\n",
    "\n",
    "for x in range(97,122):\n",
    "    \n",
    "    S  = random.randint(0,1)\n",
    "    \n",
    "    Path = os.getcwd() + '/' + Folder_Name[S] + '/'\n",
    "    \n",
    "    T = random.randint(97,123)\n",
    "    \n",
    "    with open(Path + (chr(T)) +'.txt','w') as F: pass\n",
    "    \n",
    "    S = 0"
   ]
  },
  {
   "cell_type": "code",
   "execution_count": 173,
   "metadata": {},
   "outputs": [
    {
     "data": {
      "text/plain": [
       "(['b.txt',\n",
       "  'c.txt',\n",
       "  'g.txt',\n",
       "  'y.txt',\n",
       "  'o.txt',\n",
       "  'd.txt',\n",
       "  'z.txt',\n",
       "  'l.txt',\n",
       "  't.txt',\n",
       "  'e.txt',\n",
       "  'm.txt',\n",
       "  'p.txt',\n",
       "  '{.txt',\n",
       "  'x.txt',\n",
       "  'k.txt'],\n",
       " ['u.txt',\n",
       "  'c.txt',\n",
       "  'g.txt',\n",
       "  'j.txt',\n",
       "  'w.txt',\n",
       "  'd.txt',\n",
       "  'z.txt',\n",
       "  'a.txt',\n",
       "  'e.txt',\n",
       "  'm.txt',\n",
       "  'p.txt',\n",
       "  '{.txt',\n",
       "  'x.txt',\n",
       "  'r.txt',\n",
       "  's.txt',\n",
       "  'i.txt',\n",
       "  'k.txt'])"
      ]
     },
     "execution_count": 173,
     "metadata": {},
     "output_type": "execute_result"
    }
   ],
   "source": [
    "os.listdir('/home/vigneshwaran/Desktop/Vignesh/'),os.listdir('/home/vigneshwaran/Desktop/Ramu')"
   ]
  },
  {
   "cell_type": "code",
   "execution_count": 174,
   "metadata": {},
   "outputs": [],
   "source": [
    "# Now We gonna Find Common Files and Copy to Third Folder i.e \"Raj\"\n",
    "\n",
    "\n",
    "Common_Files = [Iter for Iter in os.listdir('/home/vigneshwaran/Desktop/Vignesh/') if Iter in os.listdir('/home/vigneshwaran/Desktop/Ramu/')]\n",
    "\n",
    "for x in Common_Files:\n",
    "    \n",
    "    Path = \"/home/vigneshwaran/Desktop/Vignesh/\" + x\n",
    "    \n",
    "    shutil.copy(Path,os.getcwd() + '/' + Folder_Name[2] + '/')\n",
    "\n",
    "# # os.getcwd()\n",
    "\n",
    "# Common_Files"
   ]
  },
  {
   "cell_type": "code",
   "execution_count": 175,
   "metadata": {},
   "outputs": [
    {
     "data": {
      "text/plain": [
       "['c.txt',\n",
       " 'g.txt',\n",
       " 'd.txt',\n",
       " 'z.txt',\n",
       " 'e.txt',\n",
       " 'm.txt',\n",
       " 'p.txt',\n",
       " '{.txt',\n",
       " 'x.txt',\n",
       " 'k.txt']"
      ]
     },
     "execution_count": 175,
     "metadata": {},
     "output_type": "execute_result"
    }
   ],
   "source": [
    "os.listdir('/home/vigneshwaran/Desktop/Raj/')"
   ]
  },
  {
   "cell_type": "code",
   "execution_count": null,
   "metadata": {},
   "outputs": [],
   "source": []
  }
 ],
 "metadata": {
  "kernelspec": {
   "display_name": "Python 3",
   "language": "python",
   "name": "python3"
  },
  "language_info": {
   "codemirror_mode": {
    "name": "ipython",
    "version": 3
   },
   "file_extension": ".py",
   "mimetype": "text/x-python",
   "name": "python",
   "nbconvert_exporter": "python",
   "pygments_lexer": "ipython3",
   "version": "3.8.5"
  }
 },
 "nbformat": 4,
 "nbformat_minor": 4
}
