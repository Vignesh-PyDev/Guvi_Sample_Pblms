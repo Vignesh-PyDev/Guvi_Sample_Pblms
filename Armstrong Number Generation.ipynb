{
 "cells": [
  {
   "cell_type": "code",
   "execution_count": 1,
   "metadata": {},
   "outputs": [],
   "source": [
    "Start_Index = 0\n",
    "Last_Index = 0\n",
    "Result_List=[]"
   ]
  },
  {
   "cell_type": "code",
   "execution_count": 2,
   "metadata": {},
   "outputs": [],
   "source": [
    "def SetInput(*Updated_Values):\n",
    "    global Start_Index\n",
    "    global Last_Index\n",
    "    Start_Index = Updated_Values[0]\n",
    "    Last_Index = Updated_Values[1]\n",
    "    return [Start_Index,Last_Index]"
   ]
  },
  {
   "cell_type": "code",
   "execution_count": 3,
   "metadata": {},
   "outputs": [],
   "source": [
    "def Armstrong_No(No):\n",
    "    global Result_List\n",
    "    Temp_Value = 0\n",
    "    for Iter_Variable in str(No):\n",
    "    \n",
    "        Temp_Value += int(Iter_Variable)**3\n",
    "        if(Temp_Value == No):\n",
    "    \n",
    "            Result_List.append(Temp_Value)\n",
    "            return Result_List"
   ]
  },
  {
   "cell_type": "code",
   "execution_count": 4,
   "metadata": {},
   "outputs": [],
   "source": [
    "def Validation_Input(*Index_Values):\n",
    "    Temp_Start_Index = str(Index_Values[0])\n",
    "    Temp_Last_Index = str(Index_Values[1])\n",
    "    if(Temp_Start_Index.isnumeric()):\n",
    "        if(Temp_Last_Index.isnumeric()):\n",
    "            return 0\n",
    "        else:\n",
    "            print(\"Last Index Value Must Be a Integer\")\n",
    "            Updated_Last_Index = input(\"Enter Last Index:\")\n",
    "            SetInput(Temp_Start_Index,Updated_Last_Index)\n",
    "            Validation_Input(Temp_Start_Index,Updated_Last_Index)\n",
    "            return 0\n",
    "    else:\n",
    "        print(\"Start Index Value Must Be a Integer\")\n",
    "        Updated_Start_Index = input(\"Enter Start Index:\")\n",
    "        SetInput(Updated_Start_Index,Temp_Last_Index)\n",
    "        Validation_Input(Updated_Start_Index,Last_Index)\n",
    "        return 0"
   ]
  },
  {
   "cell_type": "code",
   "execution_count": 5,
   "metadata": {},
   "outputs": [],
   "source": [
    "def Generate_Armstrong_No():\n",
    "    global Start_Index\n",
    "    global Last_Index\n",
    "    Start_Index = input(\"Enter Start Index:\")\n",
    "    Last_Index = input(\"Enter Last Index:\")\n",
    "    if(Validation_Input(Start_Index,Last_Index) == 0):\n",
    "        for Iterate_Variable in range(int(Start_Index),int(Last_Index)):\n",
    "            Armstrong_No(Iterate_Variable)\n",
    "    return Result_List    "
   ]
  },
  {
   "cell_type": "code",
   "execution_count": 6,
   "metadata": {},
   "outputs": [
    {
     "name": "stdout",
     "output_type": "stream",
     "text": [
      "Enter Start Index:1\n",
      "Enter Last Index:l\n",
      "Last Index Value Must Be a Integer\n",
      "Enter Last Index:223\n"
     ]
    },
    {
     "data": {
      "text/plain": [
       "[1, 153]"
      ]
     },
     "execution_count": 6,
     "metadata": {},
     "output_type": "execute_result"
    }
   ],
   "source": [
    "Generate_Armstrong_No()"
   ]
  },
  {
   "cell_type": "code",
   "execution_count": null,
   "metadata": {},
   "outputs": [],
   "source": []
  }
 ],
 "metadata": {
  "kernelspec": {
   "display_name": "Python 3",
   "language": "python",
   "name": "python3"
  },
  "language_info": {
   "codemirror_mode": {
    "name": "ipython",
    "version": 3
   },
   "file_extension": ".py",
   "mimetype": "text/x-python",
   "name": "python",
   "nbconvert_exporter": "python",
   "pygments_lexer": "ipython3",
   "version": "3.8.5"
  }
 },
 "nbformat": 4,
 "nbformat_minor": 4
}
